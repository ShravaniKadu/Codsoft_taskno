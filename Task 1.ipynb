{
 "cells": [
  {
   "cell_type": "markdown",
   "metadata": {},
   "source": [
    "Task 1 : CHATBOT WITH RULE-BASED RESPONSES"
   ]
  },
  {
   "cell_type": "code",
   "execution_count": 1,
   "metadata": {},
   "outputs": [
    {
     "name": "stdout",
     "output_type": "stream",
     "text": [
      "🤖 Chatbot: Hello, human! Let's chat. Type 'bye' to exit.\n",
      "🤖 Chatbot: Hey there! Ready for a fun chat? 😃\n",
      "🤖 Chatbot: Could you rephrase that? I want to understand you better. 🤖\n",
      "🤖 Chatbot: Hmm... That’s interesting! Tell me more. 🤔\n",
      "🤖 Chatbot: Goodbye! Stay awesome! 👋\n"
     ]
    }
   ],
   "source": [
    "\n",
    "import nltk\n",
    "from nltk.chat.util import Chat, reflections\n",
    "import random\n",
    "\n",
    "pairs = [\n",
    "    [r\"hi|hello|hey\", \n",
    "     [\"Hello! 🌟 How can I brighten your day?\", \"Hey there! Ready for a fun chat? 😃\"]],\n",
    "    \n",
    "    [r\"how are you ?\", \n",
    "     [\"I'm just a bot, but I'm feeling fantastic! How about you? 😊\", \n",
    "      \"I never get tired, so I'm always great! What about you?\"]],\n",
    "    \n",
    "    [r\"what is your name?\", \n",
    "     [\"I'm ChatBot 3000! 🚀 But you can call me your friendly AI assistant.\"]],\n",
    "    \n",
    "    [r\"who created you?\", \n",
    "     [\"I was crafted with love by an AI enthusiast using Python! 💡\"]],\n",
    "    \n",
    "    [r\"bye|goodbye\", \n",
    "     [\"Goodbye, human! Stay awesome! 👋\", \"See you later! Keep smiling! 😊\"]],\n",
    "    \n",
    "    [r\"(.*) help (.*)\", \n",
    "     [\"Absolutely! What do you need help with? 🧐\", \n",
    "      \"Of course! Ask away, and I'll do my best to assist.\"]],\n",
    "    \n",
    "    [r\"(.*) your favorite (.*)\", \n",
    "     [\"Oh, I love all things tech and AI! 🤖 What about you?\", \n",
    "      \"I don’t have preferences, but I enjoy chatting with you!\"]],\n",
    "    \n",
    "    [r\"(.*) joke\", \n",
    "     [\"Why don’t programmers like nature? It has too many bugs! 😂\", \n",
    "      \"I told my Wi-Fi I was feeling weak, and it said: 'Hang in there, I’m sending signals of support!' 📶😆\"]],\n",
    "    \n",
    "    [r\"(.*)\", \n",
    "     [\"Hmm... That’s interesting! Tell me more. 🤔\", \n",
    "      \"I'm not sure how to respond to that, but I'm all ears! 👂\", \n",
    "      \"Could you rephrase that? I want to understand you better. 🤖\"]]\n",
    "]\n",
    "\n",
    "\n",
    "chatbot = Chat(pairs, reflections)\n",
    "\n",
    "\n",
    "print(\"🤖 Chatbot: Hello, human! Let's chat. Type 'bye' to exit.\")\n",
    "while True:\n",
    "    user_input = input(\"You: \")\n",
    "    if user_input.lower() == \"bye\":\n",
    "        print(\"🤖 Chatbot: Goodbye! Stay awesome! 👋\")\n",
    "        break\n",
    "    response = chatbot.respond(user_input)\n",
    "    print(\"🤖 Chatbot:\", response)\n",
    "\n"
   ]
  },
  {
   "cell_type": "markdown",
   "metadata": {},
   "source": []
  },
  {
   "cell_type": "code",
   "execution_count": null,
   "metadata": {},
   "outputs": [],
   "source": []
  }
 ],
 "metadata": {
  "kernelspec": {
   "display_name": "Python 3",
   "language": "python",
   "name": "python3"
  },
  "language_info": {
   "codemirror_mode": {
    "name": "ipython",
    "version": 3
   },
   "file_extension": ".py",
   "mimetype": "text/x-python",
   "name": "python",
   "nbconvert_exporter": "python",
   "pygments_lexer": "ipython3",
   "version": "3.12.4"
  }
 },
 "nbformat": 4,
 "nbformat_minor": 2
}
